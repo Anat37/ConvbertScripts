{
 "cells": [
  {
   "cell_type": "code",
   "execution_count": 7,
   "metadata": {},
   "outputs": [],
   "source": [
    "import torch\n",
    "from transformers import Trainer, TrainingArguments\n",
    "from transformers import AlbertModel, AlbertConfig, AlbertTokenizer, AlbertForPreTraining, ConvbertForPreTraining, ConvbertModel\n",
    "from dataset import SOPDataset, MyTrainer, collate_batch\n",
    "import os\n",
    "\n",
    "model_dir = 'E:/ConvbertData/convbert_12/output'\n",
    "#model_dir = 'E:/ConvbertData/albert/model_dir'\n",
    "\n",
    "def get_last_checkpoint(dir_name):\n",
    "    max_check = -1\n",
    "    result = None\n",
    "    for filename in os.listdir(dir_name):\n",
    "        if 'checkpoint' in filename:\n",
    "            step = int(filename.split('-')[1])\n",
    "            if step > max_check:\n",
    "                max_check = step\n",
    "                result = filename\n",
    "    return os.path.join(dir_name, result)\n",
    "\n",
    "tokenizer = AlbertTokenizer.from_pretrained('albert-base-v2')\n",
    "model = ConvbertModel.from_pretrained(get_last_checkpoint(model_dir))\n",
    "#model = AlbertModel.from_pretrained(model_dir)\n",
    "device = torch.device(\"cuda:0\" if torch.cuda.is_available() else \"cpu\")\n",
    "model = model.to(device)\n",
    "train_dataset = SOPDataset(directory='E:/ConvbertData/text_data/cache', batch_size=10, tokenizer=tokenizer, mlm_probability=0.15)"
   ]
  },
  {
   "cell_type": "code",
   "execution_count": 8,
   "metadata": {},
   "outputs": [],
   "source": [
    "import numpy as np\n",
    "import torch.nn as nn\n",
    "import tqdm"
   ]
  },
  {
   "cell_type": "code",
   "execution_count": 9,
   "metadata": {},
   "outputs": [],
   "source": [
    "class IndexClassifier(nn.Module):\n",
    "    def __init__(self, transformer, layer):\n",
    "        super(IndexClassifier, self).__init__()\n",
    "        self.transformer = transformer\n",
    "        self.transformer.train(False)\n",
    "        self.layer = layer\n",
    "        self.dense = nn.Linear(768, 512)\n",
    "        \n",
    "    def forward(self, inputs):\n",
    "        output = self.transformer(inputs['input_ids'], attention_mask=inputs['attention_mask'], output_hidden_states=True)\n",
    "        embeddings = output[2][self.layer]\n",
    "        return self.dense(embeddings)"
   ]
  },
  {
   "cell_type": "code",
   "execution_count": 10,
   "metadata": {},
   "outputs": [
    {
     "name": "stderr",
     "output_type": "stream",
     "text": [
      "100%|████████████████████████████████████████████████████████████████████████████████| 100/100 [00:20<00:00,  4.76it/s]\n",
      "100%|██████████████████████████████████████████████████████████████████████████████| 1000/1000 [02:32<00:00,  6.54it/s]\n"
     ]
    },
    {
     "data": {
      "text/plain": [
       "(0.0011694460244013286, 0.19702534224184715)"
      ]
     },
     "execution_count": 10,
     "metadata": {},
     "output_type": "execute_result"
    }
   ],
   "source": [
    "def train_model(layer, iterations = 10000):\n",
    "    index_model = IndexClassifier(model, layer).to(device)\n",
    "    loss_fn = nn.CrossEntropyLoss(ignore_index=0)\n",
    "    optimizer = torch.optim.Adagrad(index_model.parameters())\n",
    "\n",
    "    iterator = iter(train_dataset)\n",
    "\n",
    "    for i in tqdm.tqdm(range(iterations)):\n",
    "        batch = next(iterator)\n",
    "        inputs = batch.to(device)\n",
    "        batch_size = inputs['input_ids'].shape[0]\n",
    "        seq_len = inputs['input_ids'].shape[1]\n",
    "        optimizer.zero_grad()\n",
    "        outputs = index_model(inputs)\n",
    "        target = torch.cuda.LongTensor([np.arange(0, seq_len)] * batch_size) * inputs['attention_mask']\n",
    "        loss = loss_fn(outputs.view(batch_size * seq_len, 512), target.view(-1))\n",
    "        loss.backward()\n",
    "        optimizer.step()\n",
    "        #if it % 10000 == 0:\n",
    "        #    print(loss.item())\n",
    "    \n",
    "    it = 0\n",
    "    loss = 0\n",
    "    tp = 0\n",
    "    total = 0\n",
    "    index_model.train(False)\n",
    "    for i in tqdm.tqdm(range(1000)):\n",
    "        batch = next(iterator)\n",
    "        inputs = batch.to(device)\n",
    "        batch_size = inputs['input_ids'].shape[0]\n",
    "        seq_len = inputs['input_ids'].shape[1]\n",
    "        outputs = index_model(inputs)\n",
    "        target = torch.cuda.LongTensor([np.arange(0, seq_len)] * batch_size) * inputs['attention_mask']\n",
    "        result = torch.argmax(nn.functional.softmax(outputs, -1), -1)\n",
    "        total += inputs['attention_mask'].sum().item()\n",
    "        tp += (result == target).sum().item()\n",
    "        current_loss = loss_fn(outputs.view(batch_size * seq_len, 512), target.view(-1))\n",
    "        loss += current_loss.item()\n",
    "    return loss/total, tp/total\n",
    "        \n",
    "train_model(1, iterations = 100)"
   ]
  },
  {
   "cell_type": "code",
   "execution_count": 11,
   "metadata": {},
   "outputs": [
    {
     "name": "stderr",
     "output_type": "stream",
     "text": [
      "100%|████████████████████████████████████████████████████████████████████████████| 10000/10000 [26:27<00:00,  6.30it/s]\n",
      "100%|██████████████████████████████████████████████████████████████████████████████| 1000/1000 [02:24<00:00,  6.93it/s]\n",
      "  0%|                                                                                        | 0/10000 [00:00<?, ?it/s]"
     ]
    },
    {
     "name": "stdout",
     "output_type": "stream",
     "text": [
      "(4.3916603228187704e-09, 0.9969412758611302)\n"
     ]
    },
    {
     "name": "stderr",
     "output_type": "stream",
     "text": [
      "100%|████████████████████████████████████████████████████████████████████████████| 10000/10000 [27:58<00:00,  5.96it/s]\n",
      "100%|██████████████████████████████████████████████████████████████████████████████| 1000/1000 [02:24<00:00,  6.92it/s]\n",
      "  0%|                                                                                        | 0/10000 [00:00<?, ?it/s]"
     ]
    },
    {
     "name": "stdout",
     "output_type": "stream",
     "text": [
      "(2.601552270329988e-07, 0.9968324568528885)\n"
     ]
    },
    {
     "name": "stderr",
     "output_type": "stream",
     "text": [
      "100%|████████████████████████████████████████████████████████████████████████████| 10000/10000 [29:30<00:00,  5.65it/s]\n",
      "100%|██████████████████████████████████████████████████████████████████████████████| 1000/1000 [02:24<00:00,  6.91it/s]\n",
      "  0%|                                                                                        | 0/10000 [00:00<?, ?it/s]"
     ]
    },
    {
     "name": "stdout",
     "output_type": "stream",
     "text": [
      "(1.5246452806417724e-07, 0.996860688239641)\n"
     ]
    },
    {
     "name": "stderr",
     "output_type": "stream",
     "text": [
      "100%|████████████████████████████████████████████████████████████████████████████| 10000/10000 [31:07<00:00,  5.35it/s]\n",
      "100%|██████████████████████████████████████████████████████████████████████████████| 1000/1000 [02:25<00:00,  6.89it/s]\n",
      "  0%|                                                                                        | 0/10000 [00:00<?, ?it/s]"
     ]
    },
    {
     "name": "stdout",
     "output_type": "stream",
     "text": [
      "(1.828031126734396e-06, 0.9957678740438995)\n"
     ]
    },
    {
     "name": "stderr",
     "output_type": "stream",
     "text": [
      "100%|████████████████████████████████████████████████████████████████████████████| 10000/10000 [32:42<00:00,  5.10it/s]\n",
      "100%|██████████████████████████████████████████████████████████████████████████████| 1000/1000 [02:24<00:00,  6.90it/s]\n",
      "  0%|                                                                                        | 0/10000 [00:00<?, ?it/s]"
     ]
    },
    {
     "name": "stdout",
     "output_type": "stream",
     "text": [
      "(2.5828355647035167e-06, 0.9953104274423012)\n"
     ]
    },
    {
     "name": "stderr",
     "output_type": "stream",
     "text": [
      "100%|████████████████████████████████████████████████████████████████████████████| 10000/10000 [34:20<00:00,  4.85it/s]\n",
      "100%|██████████████████████████████████████████████████████████████████████████████| 1000/1000 [02:24<00:00,  6.90it/s]\n",
      "  0%|                                                                                        | 0/10000 [00:00<?, ?it/s]"
     ]
    },
    {
     "name": "stdout",
     "output_type": "stream",
     "text": [
      "(1.4414157382308343e-06, 0.9959886623166265)\n"
     ]
    },
    {
     "name": "stderr",
     "output_type": "stream",
     "text": [
      "100%|████████████████████████████████████████████████████████████████████████████| 10000/10000 [35:50<00:00,  4.65it/s]\n",
      "100%|██████████████████████████████████████████████████████████████████████████████| 1000/1000 [02:24<00:00,  6.90it/s]\n",
      "  0%|                                                                                        | 0/10000 [00:00<?, ?it/s]"
     ]
    },
    {
     "name": "stdout",
     "output_type": "stream",
     "text": [
      "(8.218801327302222e-07, 0.9964355620223222)\n"
     ]
    },
    {
     "name": "stderr",
     "output_type": "stream",
     "text": [
      "100%|████████████████████████████████████████████████████████████████████████████| 10000/10000 [37:28<00:00,  4.45it/s]\n",
      "100%|██████████████████████████████████████████████████████████████████████████████| 1000/1000 [02:24<00:00,  6.90it/s]\n",
      "  0%|                                                                                        | 0/10000 [00:00<?, ?it/s]"
     ]
    },
    {
     "name": "stdout",
     "output_type": "stream",
     "text": [
      "(1.6125885257785175e-06, 0.9960417041797763)\n"
     ]
    },
    {
     "name": "stderr",
     "output_type": "stream",
     "text": [
      "100%|████████████████████████████████████████████████████████████████████████████| 10000/10000 [38:57<00:00,  4.28it/s]\n",
      "100%|██████████████████████████████████████████████████████████████████████████████| 1000/1000 [02:25<00:00,  6.89it/s]\n",
      "  0%|                                                                                        | 0/10000 [00:00<?, ?it/s]"
     ]
    },
    {
     "name": "stdout",
     "output_type": "stream",
     "text": [
      "(1.0462084049168679e-06, 0.9963101334797824)\n"
     ]
    },
    {
     "name": "stderr",
     "output_type": "stream",
     "text": [
      "100%|████████████████████████████████████████████████████████████████████████████| 10000/10000 [40:25<00:00,  4.12it/s]\n",
      "100%|██████████████████████████████████████████████████████████████████████████████| 1000/1000 [02:24<00:00,  6.91it/s]\n",
      "  0%|                                                                                        | 0/10000 [00:00<?, ?it/s]"
     ]
    },
    {
     "name": "stdout",
     "output_type": "stream",
     "text": [
      "(1.8744767209593013e-06, 0.9958569375416265)\n"
     ]
    },
    {
     "name": "stderr",
     "output_type": "stream",
     "text": [
      "100%|████████████████████████████████████████████████████████████████████████████| 10000/10000 [41:59<00:00,  3.97it/s]\n",
      "100%|██████████████████████████████████████████████████████████████████████████████| 1000/1000 [02:24<00:00,  6.91it/s]\n",
      "  0%|                                                                                        | 0/10000 [00:00<?, ?it/s]"
     ]
    },
    {
     "name": "stdout",
     "output_type": "stream",
     "text": [
      "(2.4405745790799178e-06, 0.9954119014549588)\n"
     ]
    },
    {
     "name": "stderr",
     "output_type": "stream",
     "text": [
      "100%|████████████████████████████████████████████████████████████████████████████| 10000/10000 [43:31<00:00,  3.83it/s]\n",
      "100%|██████████████████████████████████████████████████████████████████████████████| 1000/1000 [02:24<00:00,  6.91it/s]\n",
      "  0%|                                                                                        | 0/10000 [00:00<?, ?it/s]"
     ]
    },
    {
     "name": "stdout",
     "output_type": "stream",
     "text": [
      "(1.7051136918649007e-06, 0.9958328677948455)\n"
     ]
    },
    {
     "name": "stderr",
     "output_type": "stream",
     "text": [
      "100%|████████████████████████████████████████████████████████████████████████████| 10000/10000 [45:38<00:00,  3.65it/s]\n",
      "100%|██████████████████████████████████████████████████████████████████████████████| 1000/1000 [02:27<00:00,  6.77it/s]\n"
     ]
    },
    {
     "name": "stdout",
     "output_type": "stream",
     "text": [
      "(1.7492546829082654e-05, 0.9834972774145389)\n",
      "[(4.3916603228187704e-09, 0.9969412758611302), (2.601552270329988e-07, 0.9968324568528885), (1.5246452806417724e-07, 0.996860688239641), (1.828031126734396e-06, 0.9957678740438995), (2.5828355647035167e-06, 0.9953104274423012), (1.4414157382308343e-06, 0.9959886623166265), (8.218801327302222e-07, 0.9964355620223222), (1.6125885257785175e-06, 0.9960417041797763), (1.0462084049168679e-06, 0.9963101334797824), (1.8744767209593013e-06, 0.9958569375416265), (2.4405745790799178e-06, 0.9954119014549588), (1.7051136918649007e-06, 0.9958328677948455), (1.7492546829082654e-05, 0.9834972774145389)]\n"
     ]
    }
   ],
   "source": [
    "result = []\n",
    "for i in range(0, 13):\n",
    "    result.append(train_model(i))\n",
    "    print(result[-1])\n",
    "    \n",
    "print(result)"
   ]
  },
  {
   "cell_type": "code",
   "execution_count": 12,
   "metadata": {},
   "outputs": [
    {
     "ename": "NameError",
     "evalue": "name 'albert' is not defined",
     "output_type": "error",
     "traceback": [
      "\u001b[1;31m---------------------------------------------------------------------------\u001b[0m",
      "\u001b[1;31mNameError\u001b[0m                                 Traceback (most recent call last)",
      "\u001b[1;32m<ipython-input-12-4eab649c7fda>\u001b[0m in \u001b[0;36m<module>\u001b[1;34m()\u001b[0m\n\u001b[0;32m      1\u001b[0m \u001b[1;33m(\u001b[0m\u001b[1;36m9.47352011726333e-10\u001b[0m\u001b[1;33m,\u001b[0m \u001b[1;36m0.9968193313478251\u001b[0m\u001b[1;33m)\u001b[0m\u001b[1;33m\u001b[0m\u001b[0m\n\u001b[0;32m      2\u001b[0m \u001b[1;33m\u001b[0m\u001b[0m\n\u001b[1;32m----> 3\u001b[1;33m \u001b[0malbert\u001b[0m \u001b[1;33m[\u001b[0m\u001b[1;33m(\u001b[0m\u001b[1;36m3.2626636499744777e-09\u001b[0m\u001b[1;33m,\u001b[0m \u001b[1;36m0.9974775540143971\u001b[0m\u001b[1;33m)\u001b[0m\u001b[1;33m,\u001b[0m \u001b[1;33m(\u001b[0m\u001b[1;36m5.227441220872217e-07\u001b[0m\u001b[1;33m,\u001b[0m \u001b[1;36m0.9972558971361003\u001b[0m\u001b[1;33m)\u001b[0m\u001b[1;33m,\u001b[0m \u001b[1;33m(\u001b[0m\u001b[1;36m1.8203832469968202e-05\u001b[0m\u001b[1;33m,\u001b[0m \u001b[1;36m0.9771521703534178\u001b[0m\u001b[1;33m)\u001b[0m\u001b[1;33m,\u001b[0m \u001b[1;33m(\u001b[0m\u001b[1;36m0.0003443862991534884\u001b[0m\u001b[1;33m,\u001b[0m \u001b[1;36m0.600711628272535\u001b[0m\u001b[1;33m)\u001b[0m\u001b[1;33m,\u001b[0m \u001b[1;33m(\u001b[0m\u001b[1;36m0.0013903884815532701\u001b[0m\u001b[1;33m,\u001b[0m \u001b[1;36m0.01083300354891411\u001b[0m\u001b[1;33m)\u001b[0m\u001b[1;33m,\u001b[0m \u001b[1;33m(\u001b[0m\u001b[1;36m0.0015854043168583192\u001b[0m\u001b[1;33m,\u001b[0m \u001b[1;36m0.002540712943774336\u001b[0m\u001b[1;33m)\u001b[0m\u001b[1;33m,\u001b[0m \u001b[1;33m(\u001b[0m\u001b[1;36m0.0015612912199005947\u001b[0m\u001b[1;33m,\u001b[0m \u001b[1;36m0.0025360403062965504\u001b[0m\u001b[1;33m)\u001b[0m\u001b[1;33m,\u001b[0m \u001b[1;33m(\u001b[0m\u001b[1;36m0.0014952894962990849\u001b[0m\u001b[1;33m,\u001b[0m \u001b[1;36m0.005022793455447313\u001b[0m\u001b[1;33m)\u001b[0m\u001b[1;33m,\u001b[0m \u001b[1;33m(\u001b[0m\u001b[1;36m0.0015807216924212145\u001b[0m\u001b[1;33m,\u001b[0m \u001b[1;36m0.00238922438443017\u001b[0m\u001b[1;33m)\u001b[0m\u001b[1;33m,\u001b[0m \u001b[1;33m(\u001b[0m\u001b[1;36m0.0015591000802348276\u001b[0m\u001b[1;33m,\u001b[0m \u001b[1;36m0.0023569901208507285\u001b[0m\u001b[1;33m)\u001b[0m\u001b[1;33m,\u001b[0m \u001b[1;33m(\u001b[0m\u001b[1;36m0.0015763058481761392\u001b[0m\u001b[1;33m,\u001b[0m \u001b[1;36m0.002469093873975847\u001b[0m\u001b[1;33m)\u001b[0m\u001b[1;33m,\u001b[0m \u001b[1;33m(\u001b[0m\u001b[1;36m0.0015853887640640107\u001b[0m\u001b[1;33m,\u001b[0m \u001b[1;36m0.002549201787245934\u001b[0m\u001b[1;33m)\u001b[0m\u001b[1;33m,\u001b[0m \u001b[1;33m(\u001b[0m\u001b[1;36m0.001576727379028436\u001b[0m\u001b[1;33m,\u001b[0m \u001b[1;36m0.002534396191512155\u001b[0m\u001b[1;33m)\u001b[0m\u001b[1;33m]\u001b[0m\u001b[1;33m\u001b[0m\u001b[0m\n\u001b[0m",
      "\u001b[1;31mNameError\u001b[0m: name 'albert' is not defined"
     ]
    }
   ],
   "source": [
    "(9.47352011726333e-10, 0.9968193313478251)\n",
    "\n",
    "albert [(3.2626636499744777e-09, 0.9974775540143971), (5.227441220872217e-07, 0.9972558971361003), (1.8203832469968202e-05, 0.9771521703534178), (0.0003443862991534884, 0.600711628272535), (0.0013903884815532701, 0.01083300354891411), (0.0015854043168583192, 0.002540712943774336), (0.0015612912199005947, 0.0025360403062965504), (0.0014952894962990849, 0.005022793455447313), (0.0015807216924212145, 0.00238922438443017), (0.0015591000802348276, 0.0023569901208507285), (0.0015763058481761392, 0.002469093873975847), (0.0015853887640640107, 0.002549201787245934), (0.001576727379028436, 0.002534396191512155)]\n",
    "\n",
    "convbert [(4.3916603228187704e-09, 0.9969412758611302), (2.601552270329988e-07, 0.9968324568528885), (1.5246452806417724e-07, 0.996860688239641), (1.828031126734396e-06, 0.9957678740438995), (2.5828355647035167e-06, 0.9953104274423012), (1.4414157382308343e-06, 0.9959886623166265), (8.218801327302222e-07, 0.9964355620223222), (1.6125885257785175e-06, 0.9960417041797763), (1.0462084049168679e-06, 0.9963101334797824), (1.8744767209593013e-06, 0.9958569375416265), (2.4405745790799178e-06, 0.9954119014549588), (1.7051136918649007e-06, 0.9958328677948455), (1.7492546829082654e-05, 0.9834972774145389)]"
   ]
  },
  {
   "cell_type": "code",
   "execution_count": 5,
   "metadata": {},
   "outputs": [
    {
     "data": {
      "image/png": "[encoded data removed]",
      "text/plain": [
       "<Figure size 1080x1080 with 1 Axes>"
      ]
     },
     "metadata": {},
     "output_type": "display_data"
    }
   ],
   "source": [
    "import matplotlib.pyplot as plt\n",
    "import numpy as np\n",
    "\n",
    "albert = [(3.2626636499744777e-09, 0.9974775540143971), (5.227441220872217e-07, 0.9972558971361003), (1.8203832469968202e-05, 0.9771521703534178), (0.0003443862991534884, 0.600711628272535), (0.0013903884815532701, 0.01083300354891411), (0.0015854043168583192, 0.002540712943774336), (0.0015612912199005947, 0.0025360403062965504), (0.0014952894962990849, 0.005022793455447313), (0.0015807216924212145, 0.00238922438443017), (0.0015591000802348276, 0.0023569901208507285), (0.0015763058481761392, 0.002469093873975847), (0.0015853887640640107, 0.002549201787245934), (0.001576727379028436, 0.002534396191512155)]\n",
    "convbert = [(4.3916603228187704e-09, 0.9969412758611302), (2.601552270329988e-07, 0.9968324568528885), (1.5246452806417724e-07, 0.996860688239641), (1.828031126734396e-06, 0.9957678740438995), (2.5828355647035167e-06, 0.9953104274423012), (1.4414157382308343e-06, 0.9959886623166265), (8.218801327302222e-07, 0.9964355620223222), (1.6125885257785175e-06, 0.9960417041797763), (1.0462084049168679e-06, 0.9963101334797824), (1.8744767209593013e-06, 0.9958569375416265), (2.4405745790799178e-06, 0.9954119014549588), (1.7051136918649007e-06, 0.9958328677948455), (1.7492546829082654e-05, 0.9834972774145389)]\n",
    "\n",
    "plt.figure(figsize=(15, 15))\n",
    "plt.plot(np.arange(0, 13), [pair[1] for pair in albert], label='Albert')\n",
    "plt.plot(np.arange(0, 13), [pair[1] for pair in convbert], label='Convbert')\n",
    "plt.legend()\n",
    "\n",
    "plt.show()"
   ]
  },
  {
   "cell_type": "code",
   "execution_count": null,
   "metadata": {},
   "outputs": [],
   "source": []
  }
 ],
 "metadata": {
  "kernelspec": {
   "display_name": "Python 3.6.5 64-bit",
   "language": "python",
   "name": "python36564bit5f07781c00224688be8c373277587870"
  },
  "language_info": {
   "codemirror_mode": {
    "name": "ipython",
    "version": 3
   },
   "file_extension": ".py",
   "mimetype": "text/x-python",
   "name": "python",
   "nbconvert_exporter": "python",
   "pygments_lexer": "ipython3",
   "version": "3.6.5"
  }
 },
 "nbformat": 4,
 "nbformat_minor": 2
}
