{
 "cells": [
  {
   "cell_type": "code",
   "execution_count": 1,
   "metadata": {},
   "outputs": [],
   "source": [
    "MODEL_DIR = \"convbert_12\""
   ]
  },
  {
   "cell_type": "code",
   "execution_count": 2,
   "metadata": {},
   "outputs": [],
   "source": [
    "def finetune_glue(task, task_name, warmup_steps, lr, max_steps, train_batch_size, eval_batch_size):\n",
    "    max_seq_length = 128\n",
    "\n",
    "    CMD_CALL = f'python D:/ConvbertScripts/transformers/examples/text-classification/run_glue.py --disable_tqdm --warmup_steps {warmup_steps} --overwrite_cache --data_dir E:/ConvbertData/glue_data/{task} --output_dir E:/ConvbertData/glue_models/{MODEL_DIR}/{task} --model_name_or_path E:/ConvbertData/{MODEL_DIR}/model_dir --task_name {task_name} --do_train --do_eval --max_seq_length {max_seq_length} --per_device_train_batch_size {train_batch_size} --learning_rate {lr} --max_steps {max_steps} --per_device_eval_batch_size {eval_batch_size} --evaluate_during_training --overwrite_output_dir'\n",
    "    print(CMD_CALL)\n",
    "    #!$CMD_CALL"
   ]
  },
  {
   "cell_type": "code",
   "execution_count": 5,
   "metadata": {},
   "outputs": [
    {
     "name": "stdout",
     "output_type": "stream",
     "text": [
      "python D:/ConvbertScripts/transformers/examples/text-classification/run_glue.py --disable_tqdm --warmup_steps 200 --overwrite_cache --data_dir E:/ConvbertData/glue_data/MRPC --output_dir E:/ConvbertData/glue_models/convbert_12/MRPC --model_name_or_path E:/ConvbertData/convbert_12/model_dir --task_name mrpc --do_train --do_eval --max_seq_length 128 --per_device_train_batch_size 32 --learning_rate 2e-05 --max_steps 1800 --per_device_eval_batch_size 64 --evaluate_during_training --overwrite_output_dir\n"
     ]
    }
   ],
   "source": [
    "finetune_glue('MRPC', 'mrpc', 200, 2e-5, 1800, 32, 64)"
   ]
  },
  {
   "cell_type": "code",
   "execution_count": 3,
   "metadata": {},
   "outputs": [
    {
     "name": "stdout",
     "output_type": "stream",
     "text": [
      "python D:/ConvbertScripts/transformers/examples/text-classification/run_glue.py --disable_tqdm --warmup_steps 1000 --overwrite_cache --data_dir E:/ConvbertData/glue_data/MNLI --output_dir E:/ConvbertData/glue_models/convbert_12/MNLI --model_name_or_path E:/ConvbertData/convbert_12/model_dir --task_name mnli --do_train --do_eval --max_seq_length 128 --per_device_train_batch_size 32 --learning_rate 3e-05 --max_steps 15000 --per_device_eval_batch_size 64 --evaluate_during_training --overwrite_output_dir\n"
     ]
    }
   ],
   "source": [
    "finetune_glue('MNLI', 'mnli', 1000, 3e-5, 15000, 32, 64)"
   ]
  },
  {
   "cell_type": "code",
   "execution_count": 5,
   "metadata": {},
   "outputs": [
    {
     "name": "stdout",
     "output_type": "stream",
     "text": [
      "python D:/ConvbertScripts/transformers/examples/text-classification/run_glue.py --disable_tqdm --warmup_steps 320 --overwrite_cache --data_dir E:/ConvbertData/glue_data/CoLA --output_dir E:/ConvbertData/glue_models/convbert_12/CoLA --model_name_or_path E:/ConvbertData/convbert_12/model_dir --task_name cola --do_train --do_eval --max_seq_length 128 --per_device_train_batch_size 16 --learning_rate 1e-05 --max_steps 6336 --per_device_eval_batch_size 32 --evaluate_during_training --overwrite_output_dir\n"
     ]
    }
   ],
   "source": [
    "finetune_glue('CoLA', 'cola', 320, 1e-5, 6336, 16, 32)"
   ]
  },
  {
   "cell_type": "code",
   "execution_count": 4,
   "metadata": {},
   "outputs": [
    {
     "name": "stdout",
     "output_type": "stream",
     "text": [
      "python D:/ConvbertScripts/transformers/examples/text-classification/run_glue.py --disable_tqdm --warmup_steps 1986 --overwrite_cache --data_dir E:/ConvbertData/glue_data/QNLI --output_dir E:/ConvbertData/glue_models/convbert_12/QNLI --model_name_or_path E:/ConvbertData/convbert_12/model_dir --task_name qnli --do_train --do_eval --max_seq_length 128 --per_device_train_batch_size 32 --learning_rate 1e-05 --max_steps 23112 --per_device_eval_batch_size 64 --evaluate_during_training --overwrite_output_dir\n"
     ]
    }
   ],
   "source": [
    "finetune_glue('QNLI', 'qnli', 1986, 1e-5, 23112, 32, 64)"
   ]
  },
  {
   "cell_type": "code",
   "execution_count": 3,
   "metadata": {},
   "outputs": [
    {
     "name": "stdout",
     "output_type": "stream",
     "text": [
      "python D:/ConvbertScripts/transformers/examples/text-classification/run_glue.py --disable_tqdm --warmup_steps 1256 --overwrite_cache --data_dir E:/ConvbertData/glue_data/SST-2 --output_dir E:/ConvbertData/glue_models/convbert_12/SST-2 --model_name_or_path E:/ConvbertData/convbert_12/model_dir --task_name sst-2 --do_train --do_eval --max_seq_length 128 --per_device_train_batch_size 32 --learning_rate 1e-05 --max_steps 10935 --per_device_eval_batch_size 64 --evaluate_during_training --overwrite_output_dir\n"
     ]
    }
   ],
   "source": [
    "finetune_glue('SST-2', 'sst-2', 1256, 1e-5, 10935, 32, 64)"
   ]
  },
  {
   "cell_type": "code",
   "execution_count": 6,
   "metadata": {},
   "outputs": [
    {
     "name": "stdout",
     "output_type": "stream",
     "text": [
      "python D:/ConvbertScripts/transformers/examples/text-classification/run_glue.py --disable_tqdm --warmup_steps 1000 --overwrite_cache --data_dir E:/ConvbertData/glue_data/QQP --output_dir E:/ConvbertData/glue_models/convbert/QQP --model_name_or_path E:/ConvbertData/convbert/model_dir --task_name qqp --do_train --do_eval --max_seq_length 128 --per_device_train_batch_size 32 --learning_rate 5e-05 --max_steps 14000 --per_device_eval_batch_size 64 --evaluate_during_training --overwrite_output_dir\n"
     ]
    }
   ],
   "source": [
    "finetune_glue('QQP', 'qqp', 1000, 5e-5, 14000, 32, 64)"
   ]
  },
  {
   "cell_type": "code",
   "execution_count": 6,
   "metadata": {},
   "outputs": [
    {
     "name": "stdout",
     "output_type": "stream",
     "text": [
      "python D:/ConvbertScripts/transformers/examples/text-classification/run_glue.py --disable_tqdm --warmup_steps 200 --overwrite_cache --data_dir E:/ConvbertData/glue_data/RTE --output_dir E:/ConvbertData/glue_models/convbert_12/RTE --model_name_or_path E:/ConvbertData/convbert_12/model_dir --task_name rte --do_train --do_eval --max_seq_length 128 --per_device_train_batch_size 32 --learning_rate 1e-05 --max_steps 2000 --per_device_eval_batch_size 64 --evaluate_during_training --overwrite_output_dir\n"
     ]
    }
   ],
   "source": [
    "finetune_glue('RTE', 'rte', 200, 1e-5, 2000, 32, 64)"
   ]
  },
  {
   "cell_type": "code",
   "execution_count": 7,
   "metadata": {},
   "outputs": [
    {
     "name": "stdout",
     "output_type": "stream",
     "text": [
      "python D:/ConvbertScripts/transformers/examples/text-classification/run_glue.py --disable_tqdm --warmup_steps 214 --overwrite_cache --data_dir E:/ConvbertData/glue_data/STS-B --output_dir E:/ConvbertData/glue_models/convbert_12/STS-B --model_name_or_path E:/ConvbertData/convbert_12/model_dir --task_name sts-b --do_train --do_eval --max_seq_length 128 --per_device_train_batch_size 16 --learning_rate 2e-05 --max_steps 5098 --per_device_eval_batch_size 32 --evaluate_during_training --overwrite_output_dir\n"
     ]
    }
   ],
   "source": [
    "finetune_glue('STS-B', 'sts-b', 214, 2e-5, 5098, 16, 32)"
   ]
  },
  {
   "cell_type": "code",
   "execution_count": null,
   "metadata": {},
   "outputs": [],
   "source": []
  }
 ],
 "metadata": {
  "kernelspec": {
   "display_name": "Python 3.6.5 64-bit",
   "language": "python",
   "name": "python36564bit5f07781c00224688be8c373277587870"
  },
  "language_info": {
   "codemirror_mode": {
    "name": "ipython",
    "version": 3
   },
   "file_extension": ".py",
   "mimetype": "text/x-python",
   "name": "python",
   "nbconvert_exporter": "python",
   "pygments_lexer": "ipython3",
   "version": "3.6.5"
  }
 },
 "nbformat": 4,
 "nbformat_minor": 2
}
